{
 "cells": [
  {
   "cell_type": "code",
   "execution_count": 1,
   "metadata": {},
   "outputs": [
    {
     "name": "stdout",
     "output_type": "stream",
     "text": [
      "Hello world!\n"
     ]
    }
   ],
   "source": [
    "print(\"Hello world!\")"
   ]
  },
  {
   "cell_type": "code",
   "execution_count": 3,
   "metadata": {},
   "outputs": [
    {
     "name": "stdout",
     "output_type": "stream",
     "text": [
      "Disease data extracted and saved to: disease_synonyms.txt\n"
     ]
    },
    {
     "ename": "UnicodeDecodeError",
     "evalue": "'charmap' codec can't decode byte 0x9d in position 1411: character maps to <undefined>",
     "output_type": "error",
     "traceback": [
      "\u001b[1;31m---------------------------------------------------------------------------\u001b[0m",
      "\u001b[1;31mUnicodeDecodeError\u001b[0m                        Traceback (most recent call last)",
      "Cell \u001b[1;32mIn[3], line 40\u001b[0m\n\u001b[0;32m     37\u001b[0m symptoms_file_path \u001b[38;5;241m=\u001b[39m \u001b[38;5;124m\"\u001b[39m\u001b[38;5;124msymp.obo\u001b[39m\u001b[38;5;124m\"\u001b[39m  \u001b[38;5;66;03m# Replace with the path to your symptoms .obo file\u001b[39;00m\n\u001b[0;32m     38\u001b[0m symptoms_output_file \u001b[38;5;241m=\u001b[39m \u001b[38;5;124m\"\u001b[39m\u001b[38;5;124msymptom_synonyms.txt\u001b[39m\u001b[38;5;124m\"\u001b[39m  \u001b[38;5;66;03m# Replace with the path for the output file\u001b[39;00m\n\u001b[1;32m---> 40\u001b[0m symptom_data \u001b[38;5;241m=\u001b[39m \u001b[43mparse_obo_file\u001b[49m\u001b[43m(\u001b[49m\u001b[43msymptoms_file_path\u001b[49m\u001b[43m)\u001b[49m\n\u001b[0;32m     41\u001b[0m write_data_to_file(symptom_data, symptoms_output_file)\n\u001b[0;32m     43\u001b[0m \u001b[38;5;28mprint\u001b[39m(\u001b[38;5;124m\"\u001b[39m\u001b[38;5;124mSymptoms data extracted and saved to:\u001b[39m\u001b[38;5;124m\"\u001b[39m, symptoms_output_file)\n",
      "Cell \u001b[1;32mIn[3], line 7\u001b[0m, in \u001b[0;36mparse_obo_file\u001b[1;34m(file_path)\u001b[0m\n\u001b[0;32m      5\u001b[0m \u001b[38;5;28;01mwith\u001b[39;00m \u001b[38;5;28mopen\u001b[39m(file_path, \u001b[38;5;124m'\u001b[39m\u001b[38;5;124mr\u001b[39m\u001b[38;5;124m'\u001b[39m) \u001b[38;5;28;01mas\u001b[39;00m f:\n\u001b[0;32m      6\u001b[0m     current_entry \u001b[38;5;241m=\u001b[39m \u001b[38;5;28;01mNone\u001b[39;00m\n\u001b[1;32m----> 7\u001b[0m \u001b[43m    \u001b[49m\u001b[38;5;28;43;01mfor\u001b[39;49;00m\u001b[43m \u001b[49m\u001b[43mline\u001b[49m\u001b[43m \u001b[49m\u001b[38;5;129;43;01min\u001b[39;49;00m\u001b[43m \u001b[49m\u001b[43mf\u001b[49m\u001b[43m:\u001b[49m\n\u001b[0;32m      8\u001b[0m \u001b[43m        \u001b[49m\u001b[43mline\u001b[49m\u001b[43m \u001b[49m\u001b[38;5;241;43m=\u001b[39;49m\u001b[43m \u001b[49m\u001b[43mline\u001b[49m\u001b[38;5;241;43m.\u001b[39;49m\u001b[43mstrip\u001b[49m\u001b[43m(\u001b[49m\u001b[43m)\u001b[49m\n\u001b[0;32m      9\u001b[0m \u001b[43m        \u001b[49m\u001b[38;5;28;43;01mif\u001b[39;49;00m\u001b[43m \u001b[49m\u001b[43mline\u001b[49m\u001b[38;5;241;43m.\u001b[39;49m\u001b[43mstartswith\u001b[49m\u001b[43m(\u001b[49m\u001b[38;5;124;43m\"\u001b[39;49m\u001b[38;5;124;43mname:\u001b[39;49m\u001b[38;5;124;43m\"\u001b[39;49m\u001b[43m)\u001b[49m\u001b[43m:\u001b[49m\n",
      "File \u001b[1;32mc:\\Program Files\\Python312\\Lib\\encodings\\cp1252.py:23\u001b[0m, in \u001b[0;36mIncrementalDecoder.decode\u001b[1;34m(self, input, final)\u001b[0m\n\u001b[0;32m     22\u001b[0m \u001b[38;5;28;01mdef\u001b[39;00m \u001b[38;5;21mdecode\u001b[39m(\u001b[38;5;28mself\u001b[39m, \u001b[38;5;28minput\u001b[39m, final\u001b[38;5;241m=\u001b[39m\u001b[38;5;28;01mFalse\u001b[39;00m):\n\u001b[1;32m---> 23\u001b[0m     \u001b[38;5;28;01mreturn\u001b[39;00m \u001b[43mcodecs\u001b[49m\u001b[38;5;241;43m.\u001b[39;49m\u001b[43mcharmap_decode\u001b[49m\u001b[43m(\u001b[49m\u001b[38;5;28;43minput\u001b[39;49m\u001b[43m,\u001b[49m\u001b[38;5;28;43mself\u001b[39;49m\u001b[38;5;241;43m.\u001b[39;49m\u001b[43merrors\u001b[49m\u001b[43m,\u001b[49m\u001b[43mdecoding_table\u001b[49m\u001b[43m)\u001b[49m[\u001b[38;5;241m0\u001b[39m]\n",
      "\u001b[1;31mUnicodeDecodeError\u001b[0m: 'charmap' codec can't decode byte 0x9d in position 1411: character maps to <undefined>"
     ]
    }
   ],
   "source": [
    "import re\n",
    "\n",
    "def parse_obo_file(file_path):\n",
    "    data = {}\n",
    "    with open(file_path, 'r') as f:\n",
    "        current_entry = None\n",
    "        for line in f:\n",
    "            line = line.strip()\n",
    "            if line.startswith(\"name:\"):\n",
    "                if current_entry:\n",
    "                    data[current_entry['name']] = current_entry['synonyms']\n",
    "                current_entry = {'synonyms': []}\n",
    "                current_entry['name'] = line.split(\"name:\")[1].strip()\n",
    "            elif line.startswith(\"synonym:\"):\n",
    "                synonym_match = re.match(r'synonym: \"(.+)\"', line)\n",
    "                if synonym_match:\n",
    "                    current_entry['synonyms'].append(synonym_match.group(1))\n",
    "        if current_entry:\n",
    "            data[current_entry['name']] = current_entry['synonyms']\n",
    "    return data\n",
    "\n",
    "def write_data_to_file(data, output_file):\n",
    "    with open(output_file, 'w') as f:\n",
    "        for entry_name, synonyms in data.items():\n",
    "            f.write(entry_name + \": \" + \", \".join(synonyms) + \"\\n\")\n",
    "\n",
    "# For diseases\n",
    "diseases_file_path = \"doid.obo\"  # Replace with the path to your diseases .obo file\n",
    "diseases_output_file = \"disease_synonyms.txt\"  # Replace with the path for the output file\n",
    "\n",
    "disease_data = parse_obo_file(diseases_file_path)\n",
    "write_data_to_file(disease_data, diseases_output_file)\n",
    "\n",
    "print(\"Disease data extracted and saved to:\", diseases_output_file)\n",
    "\n",
    "# For symptoms\n",
    "symptoms_file_path = \"symp.obo\"  # Replace with the path to your symptoms .obo file\n",
    "symptoms_output_file = \"symptom_synonyms.txt\"  # Replace with the path for the output file\n",
    "\n",
    "symptom_data = parse_obo_file(symptoms_file_path)\n",
    "write_data_to_file(symptom_data, symptoms_output_file)\n",
    "\n",
    "print(\"Symptoms data extracted and saved to:\", symptoms_output_file)\n"
   ]
  },
  {
   "cell_type": "markdown",
   "metadata": {},
   "source": [
    "Correct code for tackling the symtomps file encoding"
   ]
  },
  {
   "cell_type": "code",
   "execution_count": null,
   "metadata": {},
   "outputs": [
    {
     "name": "stdout",
     "output_type": "stream",
     "text": [
      "Symptoms data extracted and saved to: symptom_synonyms.txt\n"
     ]
    }
   ],
   "source": [
    "import re\n",
    "\n",
    "def parse_obo_file(file_path):\n",
    "    data = {}\n",
    "    current_entry = None\n",
    "    with open(file_path, 'r', encoding=\"utf-8\") as f:\n",
    "        for line in f:\n",
    "            line = line.strip()\n",
    "            if line.startswith(\"[Term]\"):\n",
    "                if current_entry:\n",
    "                    if 'name' in current_entry:\n",
    "                        data[current_entry['name']] = current_entry.get('synonyms', [])\n",
    "                current_entry = {}\n",
    "            elif line.startswith(\"id:\"):\n",
    "                current_entry['id'] = line.split(\"id:\")[1].strip()\n",
    "            elif line.startswith(\"name:\"):\n",
    "                current_entry['name'] = line.split(\"name:\")[1].strip()\n",
    "            elif line.startswith(\"synonym:\"):\n",
    "                synonym_match = re.match(r'synonym: \"(.+)\"', line)\n",
    "                if synonym_match:\n",
    "                    current_entry.setdefault('synonyms', []).append(synonym_match.group(1))\n",
    "    # Add the last entry after reaching the end of the file\n",
    "    if current_entry and 'name' in current_entry:\n",
    "        data[current_entry['name']] = current_entry.get('synonyms', [])\n",
    "    return data\n",
    "\n",
    "def write_data_to_file(data, output_file):\n",
    "    with open(output_file, 'w', encoding=\"utf-8\") as f:\n",
    "        for entry_name, synonyms in data.items():\n",
    "            f.write(entry_name + \": \" + \", \".join(synonyms) + \"\\n\")\n",
    "\n",
    "file_path = \"symp.obo\"  # Replace with the path to your symptoms .obo file\n",
    "output_file = \"symptom_synonyms.txt\"  # Replace with the path for the output file\n",
    "\n",
    "symptom_data = parse_obo_file(file_path)\n",
    "write_data_to_file(symptom_data, output_file)\n",
    "\n",
    "print(\"Symptoms data extracted and saved to:\", output_file)\n"
   ]
  },
  {
   "cell_type": "markdown",
   "metadata": {},
   "source": [
    "Disease symptoms idetifying from a sentence through the extracted file"
   ]
  },
  {
   "cell_type": "code",
   "execution_count": null,
   "metadata": {},
   "outputs": [
    {
     "name": "stdout",
     "output_type": "stream",
     "text": [
      "Diseases found: {'angiosarcoma', 'disease of metabolism', 'disease', 'hypotrichosis 7'}\n",
      "Symptoms found: {'nausea'}\n"
     ]
    }
   ],
   "source": [
    "import re\n",
    "\n",
    "# Function to read synonyms from file and return a dictionary\n",
    "def read_synonyms(file_path):\n",
    "    synonym_dict = {}\n",
    "    with open(file_path, 'r') as file:\n",
    "        for line in file:\n",
    "            if ':' in line:\n",
    "                disease_or_symptom, synonyms = line.strip().split(':', 1)  # Only split on the first colon\n",
    "                disease_or_symptom = disease_or_symptom.strip()\n",
    "                synonym_dict[disease_or_symptom.lower()] = disease_or_symptom\n",
    "                if synonyms.strip():\n",
    "                    synonyms_list = [syn.strip() for syn in synonyms.split(',')]\n",
    "                    for synonym in synonyms_list:\n",
    "                        synonym_dict[synonym.lower()] = disease_or_symptom\n",
    "            else:\n",
    "                disease_or_symptom = line.strip()\n",
    "                synonym_dict[disease_or_symptom.lower()] = disease_or_symptom\n",
    "    return synonym_dict\n",
    "\n",
    "# Function to find synonyms in text and return the matched diseases/symptoms\n",
    "def find_in_text(text, synonym_dict):\n",
    "    matches = set()\n",
    "    text_lower = text.lower()\n",
    "    for synonym in synonym_dict:\n",
    "        if re.search(r'\\b' + re.escape(synonym) + r'\\b', text_lower):\n",
    "            matches.add(synonym_dict[synonym])\n",
    "    return matches\n",
    "\n",
    "# Paths to your synonym files\n",
    "disease_synonym_file = 'disease_synonyms.txt'\n",
    "symptom_synonym_file = 'symptom_synonyms.txt'\n",
    "\n",
    "# Read the synonym files\n",
    "disease_synonyms = read_synonyms(disease_synonym_file)\n",
    "symptom_synonyms = read_synonyms(symptom_synonym_file)\n",
    "\n",
    "# Sample paragraph text\n",
    "paragraph_text = \"The patient reported experiencing severe headaches and nausea, which might indicate a possible metabolic disease or hemangiosarcoma.\"\n",
    "\n",
    "# Find diseases and symptoms in the text\n",
    "diseases_found = find_in_text(paragraph_text, disease_synonyms)\n",
    "symptoms_found = find_in_text(paragraph_text, symptom_synonyms)\n",
    "\n",
    "print(\"Diseases found:\", diseases_found)\n",
    "print(\"Symptoms found:\", symptoms_found)\n"
   ]
  },
  {
   "cell_type": "markdown",
   "metadata": {},
   "source": [
    "This one is not able to tackle numbers and punctuations"
   ]
  },
  {
   "cell_type": "code",
   "execution_count": 16,
   "metadata": {},
   "outputs": [
    {
     "ename": "SyntaxError",
     "evalue": "invalid syntax (2548437286.py, line 40)",
     "output_type": "error",
     "traceback": [
      "\u001b[1;36m  Cell \u001b[1;32mIn[16], line 40\u001b[1;36m\u001b[0m\n\u001b[1;33m    paragraph_text = \"During a 16-year period (1972-1988), 40 out of 477 thyroid cancer patients underwent thyroidectomy for undifferentiated thyroid carcinoma. To analyse the significance of \"radical\" versus \"palliative\" surgical procedures with regard to early postoperative course, operative complications and survival, all patients records were reviewed and actually followed up. A significant better survival was correlated with radical (n = 17) versus palliative tumor resection (n = 23) (p less than 0.001), and total thyroidectomy (n = 22) versus subtotal thyroidectomy (n = 18) (p less than 0.006). Radical surgery with early postoperative external irradiation revealed no postoperative mortality and only one symptomatic cervical tumor recurrence. In contrast, palliative surgery, particularly in the case of synchronous tracheotomy, was attended with a relatively high mortality (30%) and symptomatic local recurrences. The results of this study suggest that in undifferentiated thyroid carcinoma without infiltration of the esophageal or tracheal mucosa an attempt of radical tumor resection should be undertaken, since palliative surgical procedures revealed a significantly lower survival due to complications of persistent or recurrent cervical tumor infiltration and frequently were accompanied by local complications during the postoperative course.\"\u001b[0m\n\u001b[1;37m                                                                                                                                                                                                 ^\u001b[0m\n\u001b[1;31mSyntaxError\u001b[0m\u001b[1;31m:\u001b[0m invalid syntax\n"
     ]
    }
   ],
   "source": [
    "import re\n",
    "\n",
    "# Function to read synonyms from file and return a dictionary\n",
    "def read_synonyms(file_path):\n",
    "    synonym_dict = {}\n",
    "    with open(file_path, 'r') as file:\n",
    "        for line in file:\n",
    "            line = line.strip()\n",
    "            if ':' in line:\n",
    "                main_term, synonyms = line.split(':', 1)\n",
    "                main_term = main_term.strip().lower()\n",
    "                synonym_dict[main_term] = main_term\n",
    "                if synonyms.strip():\n",
    "                    synonyms_list = [syn.strip().lower() for syn in synonyms.split(',')]\n",
    "                    for synonym in synonyms_list:\n",
    "                        synonym_dict[synonym] = main_term\n",
    "            else:\n",
    "                main_term = line.strip().lower()\n",
    "                synonym_dict[main_term] = main_term\n",
    "    return synonym_dict\n",
    "\n",
    "# Function to find synonyms in text and return the matched diseases/symptoms\n",
    "def find_in_text(text, synonym_dict):\n",
    "    matches = set()\n",
    "    text_lower = text.lower()\n",
    "    for synonym in synonym_dict:\n",
    "        if re.search(r'\\b' + re.escape(synonym) + r'\\b', text_lower):\n",
    "            matches.add(synonym_dict[synonym])\n",
    "    return matches\n",
    "\n",
    "# Paths to your synonym files\n",
    "disease_synonym_file = 'disease_synonyms.txt'\n",
    "symptom_synonym_file = 'symptom_synonyms.txt'\n",
    "\n",
    "# Read the synonym files\n",
    "disease_synonyms = read_synonyms(disease_synonym_file)\n",
    "symptom_synonyms = read_synonyms(symptom_synonym_file)\n",
    "\n",
    "# Sample paragraph text\n",
    "paragraph_text = \"During a 16-year period (1972-1988), 40 out of 477 thyroid cancer patients underwent thyroidectomy for undifferentiated thyroid carcinoma. To analyse the significance of \"radical\" versus \"palliative\" surgical procedures with regard to early postoperative course, operative complications and survival, all patients records were reviewed and actually followed up. A significant better survival was correlated with radical (n = 17) versus palliative tumor resection (n = 23) (p less than 0.001), and total thyroidectomy (n = 22) versus subtotal thyroidectomy (n = 18) (p less than 0.006). Radical surgery with early postoperative external irradiation revealed no postoperative mortality and only one symptomatic cervical tumor recurrence. In contrast, palliative surgery, particularly in the case of synchronous tracheotomy, was attended with a relatively high mortality (30%) and symptomatic local recurrences. The results of this study suggest that in undifferentiated thyroid carcinoma without infiltration of the esophageal or tracheal mucosa an attempt of radical tumor resection should be undertaken, since palliative surgical procedures revealed a significantly lower survival due to complications of persistent or recurrent cervical tumor infiltration and frequently were accompanied by local complications during the postoperative course.\"\n",
    "\n",
    "# Find diseases and symptoms in the text\n",
    "diseases_found = find_in_text(paragraph_text, disease_synonyms)\n",
    "symptoms_found = find_in_text(paragraph_text, symptom_synonyms)\n",
    "\n",
    "print(\"Diseases found:\", diseases_found)\n",
    "print(\"Symptoms found:\", symptoms_found)\n"
   ]
  },
  {
   "cell_type": "code",
   "execution_count": 18,
   "metadata": {},
   "outputs": [
    {
     "name": "stdout",
     "output_type": "stream",
     "text": [
      "Diseases found: {'angiosarcoma', 'disease of metabolism', 'disease', 'hypotrichosis 7'}\n",
      "Symptoms found: {'nausea'}\n"
     ]
    }
   ],
   "source": [
    "import re\n",
    "\n",
    "# Function to read synonyms from file and return a dictionary\n",
    "def read_synonyms(file_path):\n",
    "    synonym_dict = {}\n",
    "    with open(file_path, 'r') as file:\n",
    "        for line in file:\n",
    "            line = line.strip()\n",
    "            if ':' in line:\n",
    "                main_term, synonyms = line.split(':', 1)\n",
    "                main_term = main_term.strip().lower()\n",
    "                synonym_dict[main_term] = main_term\n",
    "                if synonyms.strip():\n",
    "                    synonyms_list = [syn.strip().lower() for syn in synonyms.split(',')]\n",
    "                    for synonym in synonyms_list:\n",
    "                        synonym_dict[synonym] = main_term\n",
    "            else:\n",
    "                main_term = line.strip().lower()\n",
    "                synonym_dict[main_term] = main_term\n",
    "    return synonym_dict\n",
    "\n",
    "# Function to find synonyms in text and return the matched diseases/symptoms\n",
    "def find_in_text(text, synonym_dict):\n",
    "    matches = set()\n",
    "    text_lower = text.lower()\n",
    "    for synonym in synonym_dict:\n",
    "        # Ensure the synonym is matched as a whole word\n",
    "        pattern = r'\\b' + re.escape(synonym) + r'\\b'\n",
    "        if re.search(pattern, text_lower):\n",
    "            matches.add(synonym_dict[synonym])\n",
    "    return matches\n",
    "\n",
    "# Paths to your synonym files\n",
    "disease_synonym_file = 'disease_synonyms.txt'\n",
    "symptom_synonym_file = 'symptom_synonyms.txt'\n",
    "\n",
    "# Read the synonym files\n",
    "disease_synonyms = read_synonyms(disease_synonym_file)\n",
    "symptom_synonyms = read_synonyms(symptom_synonym_file)\n",
    "\n",
    "# Sample paragraph text\n",
    "paragraph_text = \"The patient reported experiencing severe headaches and nausea, which might indicate a possible metabolic disease or hemangiosarcoma.\"\n",
    "\n",
    "# Find diseases and symptoms in the text\n",
    "diseases_found = find_in_text(paragraph_text, disease_synonyms)\n",
    "symptoms_found = find_in_text(paragraph_text, symptom_synonyms)\n",
    "\n",
    "print(\"Diseases found:\", diseases_found)\n",
    "print(\"Symptoms found:\", symptoms_found)\n"
   ]
  },
  {
   "cell_type": "markdown",
   "metadata": {},
   "source": [
    "Identifying more disease that are not even in the text para"
   ]
  },
  {
   "cell_type": "code",
   "execution_count": 19,
   "metadata": {},
   "outputs": [
    {
     "name": "stdout",
     "output_type": "stream",
     "text": [
      "Diseases found: {'thyroid gland carcinoma', 'familial medullary thyroid carcinoma', 'congenital disorder of glycosylation type iim', 'fallopian tube cancer', 'acute lymphoblastic leukemia', 'cancer', 'obsolete anaplastic carcinoma', 'total circumpapillary dystrophy of choroid', 'paraplegia', 'hypotrichosis 7', 'primary syphilis', 'thyroid cancer', 'lip cancer', 'obsolete recurrent adenocarcinoma of lung'}\n",
      "Symptoms found: set()\n"
     ]
    }
   ],
   "source": [
    "import re\n",
    "\n",
    "# Function to read synonyms from file and return a dictionary\n",
    "def read_synonyms(file_path):\n",
    "    synonym_dict = {}\n",
    "    with open(file_path, 'r') as file:\n",
    "        for line in file:\n",
    "            line = line.strip()\n",
    "            if ':' in line:\n",
    "                main_term, synonyms = line.split(':', 1)\n",
    "                main_term = main_term.strip().lower()\n",
    "                synonym_dict[main_term] = main_term\n",
    "                if synonyms.strip():\n",
    "                    synonyms_list = [syn.strip().lower() for syn in synonyms.split(',')]\n",
    "                    for synonym in synonyms_list:\n",
    "                        synonym_dict[synonym] = main_term\n",
    "            else:\n",
    "                main_term = line.strip().lower()\n",
    "                synonym_dict[main_term] = main_term\n",
    "    return synonym_dict\n",
    "\n",
    "# Function to find synonyms in text and return the matched diseases/symptoms\n",
    "def find_in_text(text, synonym_dict):\n",
    "    matches = set()\n",
    "    text_lower = text.lower()\n",
    "    for synonym in synonym_dict:\n",
    "        # Ensure the synonym is matched as a whole word\n",
    "        pattern = r'\\b' + re.escape(synonym) + r'\\b'\n",
    "        if re.search(pattern, text_lower):\n",
    "            matches.add(synonym_dict[synonym])\n",
    "    return matches\n",
    "\n",
    "# Paths to your synonym files\n",
    "disease_synonym_file = 'disease_synonyms.txt'\n",
    "symptom_synonym_file = 'symptom_synonyms.txt'\n",
    "\n",
    "# Read the synonym files\n",
    "disease_synonyms = read_synonyms(disease_synonym_file)\n",
    "symptom_synonyms = read_synonyms(symptom_synonym_file)\n",
    "\n",
    "# Sample paragraph text\n",
    "paragraph_text = \"\"\"\n",
    "During a 16-year period (1972-1988), 40 out of 477 thyroid cancer patients underwent thyroidectomy for undifferentiated thyroid carcinoma.\n",
    "To analyse the significance of \"radical\" versus \"palliative\" surgical procedures with regard to early postoperative course, operative complications and survival,\n",
    "all patients records were reviewed and actually followed up. A significant better survival was correlated with radical (n = 17) versus palliative tumor resection (n = 23) (p less than 0.001),\n",
    "and total thyroidectomy (n = 22) versus subtotal thyroidectomy (n = 18) (p less than 0.006).\n",
    "Radical surgery with early postoperative external irradiation revealed no postoperative mortality and only one symptomatic cervical tumor recurrence.\n",
    "In contrast, palliative surgery, particularly in the case of synchronous tracheotomy, was attended with a relatively high mortality (30%) and symptomatic local recurrences.\n",
    "The results of this study suggest that in undifferentiated thyroid carcinoma without infiltration of the esophageal or tracheal mucosa an attempt of radical tumor resection should be undertaken,\n",
    "since palliative surgical procedures revealed a significantly lower survival due to complications of persistent or recurrent cervical tumor infiltration\n",
    "and frequently were accompanied by local complications during the postoperative course.\n",
    "\"\"\"\n",
    "\n",
    "# Find diseases and symptoms in the text\n",
    "diseases_found = find_in_text(paragraph_text, disease_synonyms)\n",
    "symptoms_found = find_in_text(paragraph_text, symptom_synonyms)\n",
    "\n",
    "print(\"Diseases found:\", diseases_found)\n",
    "print(\"Symptoms found:\", symptoms_found)\n"
   ]
  },
  {
   "cell_type": "code",
   "execution_count": 10,
   "metadata": {},
   "outputs": [
    {
     "name": "stdout",
     "output_type": "stream",
     "text": [
      "Match found: 'thyroid carcinoma' as 'familial medullary thyroid carcinoma'\n",
      "Match found: '22' as 'congenital disorder of glycosylation type iim'\n",
      "Match found: 'recurrent' as 'obsolete recurrent adenocarcinoma of lung'\n",
      "Match found: '' as 'hypotrichosis 7'\n",
      "Match found: 'total' as 'total circumpapillary dystrophy of choroid'\n",
      "Match found: 'cancer' as 'cancer'\n",
      "Match found: 'thyroid cancer' as 'thyroid cancer'\n",
      "Match found: 'tumor' as 'fallopian tube cancer'\n",
      "Match found: 'carcinoma' as 'obsolete anaplastic carcinoma'\n",
      "Match found: 'thyroid' as 'thyroid gland carcinoma'\n",
      "Match found: 'symptomatic' as 'primary syphilis'\n",
      "Match found: 'lower' as 'paraplegia'\n",
      "Match found: 'external' as 'lip cancer'\n",
      "Match found: 'mucosa' as 'lip cancer'\n",
      "Match found: 'all' as 'acute lymphoblastic leukemia'\n",
      "Diseases found: {'cancer', 'fallopian tube cancer', 'paraplegia', 'acute lymphoblastic leukemia', 'thyroid cancer', 'primary syphilis', 'obsolete recurrent adenocarcinoma of lung', 'familial medullary thyroid carcinoma', 'congenital disorder of glycosylation type iim', 'lip cancer', 'obsolete anaplastic carcinoma', 'thyroid gland carcinoma', 'hypotrichosis 7', 'total circumpapillary dystrophy of choroid'}\n",
      "Symptoms found: set()\n"
     ]
    }
   ],
   "source": [
    "import re\n",
    "\n",
    "# Function to read synonyms from file and return a dictionary\n",
    "def read_synonyms(file_path):\n",
    "  synonym_dict = {}\n",
    "  with open(file_path, 'r') as file:\n",
    "    for line in file:\n",
    "      line = line.strip()\n",
    "      if ':' in line:\n",
    "        main_term, synonyms = line.split(':', 1)\n",
    "        main_term = main_term.strip().lower()\n",
    "        synonym_dict[main_term] = main_term\n",
    "        if synonyms.strip():\n",
    "          synonyms_list = [syn.strip().lower() for syn in synonyms.split(',')]\n",
    "          for synonym in synonyms_list:\n",
    "            synonym_dict[synonym] = main_term\n",
    "      else:\n",
    "        main_term = line.strip().lower()\n",
    "        synonym_dict[main_term] = main_term\n",
    "  return synonym_dict\n",
    "\n",
    "# Function to find the first exact match for a disease/symptom in text\n",
    "def find_first_in_text(text, synonym_dict):\n",
    "  text_lower = text.lower()\n",
    "  # Escape special characters including inverted commas\n",
    "  escaped_synonyms = [re.escape(syn.strip()) for synonym in synonym_dict]\n",
    "  # Create a pattern for whole words only (using word boundaries)\n",
    "  pattern = r'\\b(' + '|'.join(escaped_synonyms) + r')\\b'\n",
    "  match = re.search(pattern, text_lower)\n",
    "  if match:\n",
    "    found_term = match.group()\n",
    "    print(f\"First match found: '{found_term}' as '{synonym_dict[found_term]}'\")\n",
    "    return synonym_dict[found_term]\n",
    "  return None\n",
    "\n",
    "# ... (rest of your code remains the same)\n",
    "# Paths to your synonym files\n",
    "disease_synonym_file = 'disease_synonyms.txt'\n",
    "symptom_synonym_file = 'symptom_synonyms.txt'\n",
    "\n",
    "# Read the synonym files\n",
    "disease_synonyms = read_synonyms(disease_synonym_file)\n",
    "symptom_synonyms = read_synonyms(symptom_synonym_file)\n",
    "\n",
    "# Sample paragraph text\n",
    "paragraph_text = \"\"\"\n",
    "During a 16-year period (1972-1988), 40 out of 477 thyroid cancer patients underwent thyroidectomy for undifferentiated thyroid carcinoma.\n",
    "To analyse the significance of \"radical\" versus \"palliative\" surgical procedures with regard to early postoperative course, operative complications and survival,\n",
    "all patients records were reviewed and actually followed up. A significant better survival was correlated with radical (n = 17) versus palliative tumor resection (n = 23) (p less than 0.001),\n",
    "and total thyroidectomy (n = 22) versus subtotal thyroidectomy (n = 18) (p less than 0.006).\n",
    "Radical surgery with early postoperative external irradiation revealed no postoperative mortality and only one symptomatic cervical tumor recurrence.\n",
    "In contrast, palliative surgery, particularly in the case of synchronous tracheotomy, was attended with a relatively high mortality (30%) and symptomatic local recurrences.\n",
    "The results of this study suggest that in undifferentiated thyroid carcinoma without infiltration of the esophageal or tracheal mucosa an attempt of radical tumor resection should be undertaken,\n",
    "since palliative surgical procedures revealed a significantly lower survival due to complications of persistent or recurrent cervical tumor infiltration\n",
    "and frequently were accompanied by local complications during the postoperative course.\n",
    "\"\"\"\n",
    "\n",
    "# Find diseases and symptoms in the text\n",
    "diseases_found = find_in_text(paragraph_text, disease_synonyms)\n",
    "symptoms_found = find_in_text(paragraph_text, symptom_synonyms)\n",
    "\n",
    "print(\"Diseases found:\", diseases_found)\n",
    "print(\"Symptoms found:\", symptoms_found)"
   ]
  }
 ],
 "metadata": {
  "kernelspec": {
   "display_name": "Python 3",
   "language": "python",
   "name": "python3"
  },
  "language_info": {
   "codemirror_mode": {
    "name": "ipython",
    "version": 3
   },
   "file_extension": ".py",
   "mimetype": "text/x-python",
   "name": "python",
   "nbconvert_exporter": "python",
   "pygments_lexer": "ipython3",
   "version": "3.12.2"
  }
 },
 "nbformat": 4,
 "nbformat_minor": 2
}
